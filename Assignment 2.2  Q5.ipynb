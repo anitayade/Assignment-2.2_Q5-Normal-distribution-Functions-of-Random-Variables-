{
 "cells": [
  {
   "cell_type": "markdown",
   "id": "46370b3a",
   "metadata": {},
   "source": [
    "Q5) Consider a company that has two different divisions. The annual profits from the two divisions are independent and have   distributions Profit1 ~ N(5, 3^2) and Profit2 ~ N(7, 4^2) respectively. Both the profits are in Doller Million. Answer the following questions about the total profit of the company in Rupees. Assume  that $1 = Rs. 45\n",
    "\n",
    "A.\tSpecify a Rupee range (centered on the mean) such that it contains 95% probability for the annual profit of the company.\n",
    "\n",
    "B.\tSpecify the 5th percentile of profit (in Rupees) for the company\n",
    "\n",
    "C.\tWhich of the two divisions has a larger probability of making a loss in a given year?\n"
   ]
  },
  {
   "cell_type": "code",
   "execution_count": 1,
   "id": "f3b482f3",
   "metadata": {},
   "outputs": [],
   "source": [
    "import numpy as np\n",
    "from scipy import stats\n",
    "from scipy.stats import norm"
   ]
  },
  {
   "cell_type": "code",
   "execution_count": 2,
   "id": "51c4dbc5",
   "metadata": {},
   "outputs": [
    {
     "data": {
      "text/plain": [
       "12"
      ]
     },
     "execution_count": 2,
     "metadata": {},
     "output_type": "execute_result"
    }
   ],
   "source": [
    "#mean for two different division company mean=mean1+mean2\n",
    "mean=5+7\n",
    "mean"
   ]
  },
  {
   "cell_type": "code",
   "execution_count": 10,
   "id": "2347fa0c",
   "metadata": {},
   "outputs": [
    {
     "data": {
      "text/plain": [
       "540"
      ]
     },
     "execution_count": 10,
     "metadata": {},
     "output_type": "execute_result"
    }
   ],
   "source": [
    "# 1$ =45 rs\n",
    "# convert in repees \n",
    "Mean_Rupees=mean*45\n",
    "Mean_Rupees"
   ]
  },
  {
   "cell_type": "code",
   "execution_count": 6,
   "id": "0d30f403",
   "metadata": {},
   "outputs": [
    {
     "data": {
      "text/plain": [
       "5.0"
      ]
     },
     "execution_count": 6,
     "metadata": {},
     "output_type": "execute_result"
    }
   ],
   "source": [
    "#variance for two difrant dividion company SD^2=SD1^2+SD2^2\n",
    "sd=np.sqrt((9)+(16))\n",
    "sd"
   ]
  },
  {
   "cell_type": "code",
   "execution_count": 11,
   "id": "181523f4",
   "metadata": {},
   "outputs": [
    {
     "data": {
      "text/plain": [
       "225.0"
      ]
     },
     "execution_count": 11,
     "metadata": {},
     "output_type": "execute_result"
    }
   ],
   "source": [
    "# 1$ =45 rs\n",
    "# convert in repees \n",
    "SD_Rupees=sd*45\n",
    "SD_Rupees"
   ]
  },
  {
   "cell_type": "code",
   "execution_count": 12,
   "id": "c300e929",
   "metadata": {},
   "outputs": [
    {
     "data": {
      "text/plain": [
       "(99.00810347848784, 980.9918965215122)"
      ]
     },
     "execution_count": 12,
     "metadata": {},
     "output_type": "execute_result"
    }
   ],
   "source": [
    "# A) Specify a Rupee range (centered on the mean) such that it contains 95% probability for the annual profit of the company.\n",
    "stats.norm.interval(0.95,540,225.0)"
   ]
  },
  {
   "cell_type": "code",
   "execution_count": 14,
   "id": "9353fbd1",
   "metadata": {},
   "outputs": [
    {
     "data": {
      "text/plain": [
       "-1.6448536269514729"
      ]
     },
     "execution_count": 14,
     "metadata": {},
     "output_type": "execute_result"
    }
   ],
   "source": [
    "# B) the 5th percentile of profit (in Rupees) for the company\n",
    "# 5th Percentile  z= -1.645\n",
    "stats.norm.ppf(0.05)"
   ]
  },
  {
   "cell_type": "code",
   "execution_count": 16,
   "id": "8c12c636",
   "metadata": {},
   "outputs": [
    {
     "data": {
      "text/plain": [
       "169.875"
      ]
     },
     "execution_count": 16,
     "metadata": {},
     "output_type": "execute_result"
    }
   ],
   "source": [
    "#To compute 5th Percentile, we use the formula X=μ + Zσ\n",
    "X= 540+(-1.645)*(225)\n",
    "X"
   ]
  },
  {
   "cell_type": "code",
   "execution_count": 17,
   "id": "1f249cdc",
   "metadata": {},
   "outputs": [
    {
     "data": {
      "text/plain": [
       "0.0477903522728147"
      ]
     },
     "execution_count": 17,
     "metadata": {},
     "output_type": "execute_result"
    }
   ],
   "source": [
    "# C) Which of the two divisions has a larger probability of making a loss in a given year?\n",
    "# Probability of Division 1 making a loss P(X<0)\n",
    "stats.norm.cdf(0,5,3)"
   ]
  },
  {
   "cell_type": "code",
   "execution_count": 18,
   "id": "b03bbd7a",
   "metadata": {},
   "outputs": [
    {
     "data": {
      "text/plain": [
       "0.040059156863817086"
      ]
     },
     "execution_count": 18,
     "metadata": {},
     "output_type": "execute_result"
    }
   ],
   "source": [
    "# Probability of Division 2 making a loss P(X<0)\n",
    "stats.norm.cdf(0,7,4)"
   ]
  },
  {
   "cell_type": "markdown",
   "id": "d53aee36",
   "metadata": {},
   "source": [
    "the probability of division 1 the loss is greter than division 2"
   ]
  },
  {
   "cell_type": "code",
   "execution_count": null,
   "id": "f0906fed",
   "metadata": {},
   "outputs": [],
   "source": []
  }
 ],
 "metadata": {
  "kernelspec": {
   "display_name": "Python 3",
   "language": "python",
   "name": "python3"
  },
  "language_info": {
   "codemirror_mode": {
    "name": "ipython",
    "version": 3
   },
   "file_extension": ".py",
   "mimetype": "text/x-python",
   "name": "python",
   "nbconvert_exporter": "python",
   "pygments_lexer": "ipython3",
   "version": "3.8.8"
  }
 },
 "nbformat": 4,
 "nbformat_minor": 5
}
